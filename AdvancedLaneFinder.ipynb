{
 "cells": [
  {
   "cell_type": "code",
   "execution_count": 7,
   "metadata": {
    "collapsed": false,
    "deletable": true,
    "editable": true
   },
   "outputs": [],
   "source": [
    "#http://www.pyimagesearch.com/2014/05/05/building-pokedex-python-opencv-perspective-warping-step-5-6/ # perspetive\n",
    "import cv2\n",
    "import pickle\n",
    "import numpy as np\n",
    "import matplotlib.pyplot as plt\n",
    "import matplotlib.image as mpimg\n",
    "from moviepy.editor import VideoFileClip\n",
    "from IPython.display import HTML\n",
    "import sys\n",
    "%matplotlib inline"
   ]
  },
  {
   "cell_type": "markdown",
   "metadata": {},
   "source": [
    "### File location\n",
    "\n",
    "change these strings to the path of\n",
    "\n",
    "* camCalibFile    = chessboard img\n",
    "* white_output    = final output vid path\n",
    "* nameOfTheFile   = project video path"
   ]
  },
  {
   "cell_type": "code",
   "execution_count": null,
   "metadata": {
    "collapsed": true
   },
   "outputs": [],
   "source": [
    "camCalibFile = 'D:\\\\tutorials\\\\nanodegree\\\\SDC\\\\unit_10_Advanced_lane_finding\\\\CarND-Advanced-Lane-Lines-master\\\\camera_cal\\\\calibration*.jpg'\n",
    "white_output = 'D:\\\\tutorials\\\\nanodegree\\\\SDC\\\\unit_10_Advanced_lane_finding\\\\CarND-Advanced-Lane-Lines-master\\\\FinalOutput10.mp4'\n",
    "nameOfTheFile = \"D:\\\\tutorials\\\\nanodegree\\\\SDC\\\\unit_10_Advanced_lane_finding\\\\CarND-Advanced-Lane-Lines-master\\\\project_video.mp4\"\n"
   ]
  },
  {
   "cell_type": "markdown",
   "metadata": {
    "deletable": true,
    "editable": true
   },
   "source": [
    "### Cam calibration\n",
    "\n",
    "steps\n",
    "\n",
    "* load the chessboard pic\n",
    "* find corners (9,6)\n",
    "* create obj point (X,Y,Z) and img points (X,Y)\n",
    "* use opencv calibrateCamera function to calculate the cam matrix and distorsion coefficient\n"
   ]
  },
  {
   "cell_type": "code",
   "execution_count": 26,
   "metadata": {
    "collapsed": false,
    "deletable": true,
    "editable": true
   },
   "outputs": [],
   "source": [
    "import glob\n",
    "image = glob.glob(camCalibFile)\n",
    "objPoint = []\n",
    "imgPoint = []\n",
    "objp = np.zeros((6*9,3),np.float32)\n",
    "ob=[]\n",
    "objp[:,:2] =np.mgrid[0:9,0:6].T.reshape(-1,2)\n",
    "\n",
    "\n",
    "for i in image:\n",
    "    \n",
    "    img = cv2.imread(i)\n",
    "    gray = cv2.cvtColor(img,cv2.COLOR_BGR2GRAY)\n",
    "    ret,corners = cv2.findChessboardCorners(gray,(9,6),None)#8,6\n",
    "    if ret == True:\n",
    "        objPoint.append(objp)\n",
    "        imgPoint.append(corners)\n",
    "        \n",
    "\n",
    "img = cv2.imread(image[0])\n",
    "r , mat, dis ,rvecs, tvecs = cv2.calibrateCamera(objPoint , imgPoint , img.shape[0:2],None,None)\n",
    "\n",
    "\n",
    "\n"
   ]
  },
  {
   "cell_type": "markdown",
   "metadata": {
    "collapsed": false,
    "deletable": true,
    "editable": true
   },
   "source": [
    "### Line class \n",
    "create a class to store the lane lines features like \n",
    "* fit polynomial\n",
    "* fit x values\n",
    "* radius of curvature\n",
    "* no of iterations\n",
    "* current line fit\n"
   ]
  },
  {
   "cell_type": "code",
   "execution_count": 27,
   "metadata": {
    "collapsed": true,
    "deletable": true,
    "editable": true
   },
   "outputs": [],
   "source": [
    "class Line() :\n",
    "    def __init__(self):\n",
    "        # was the line detected in the last iteration?\n",
    "        self.detected = False\n",
    "        #no of iterations\n",
    "        self.iter = 1\n",
    "        \n",
    "        # x values of the last n fits of the line\n",
    "        self.recent_xfitted = [] \n",
    "        #average x values of the fitted line over the last n iterations\n",
    "        self.besx = None # see later \n",
    "        #polynomial coefficients averaged over the last n iterations\n",
    "        self.best_fit = None\n",
    "        #polynomial coefficients for the most recent fit\n",
    "        self.current_fit = [np.array([False])]  \n",
    "        #radius of curvature of the line in some units\n",
    "        self.radius_of_curvature = None \n",
    "        #distance in meters of vehicle center from the line\n",
    "        self.line_base_pos = None # see later\n",
    "        #difference in fit coefficients between last and new fits\n",
    "        self.diffs = np.array([0,0,0], dtype='float') # see later\n",
    "        #x values for detected line pixels\n",
    "        self.allx = None  \n",
    "        #y values for detected line pixels\n",
    "        self.ally = None\n",
    "        self.pts = np.array([None])\n",
    "    "
   ]
  },
  {
   "cell_type": "markdown",
   "metadata": {
    "collapsed": true,
    "deletable": true,
    "editable": true
   },
   "source": [
    "### HLS conversion function\n",
    "\n",
    "to convert the image frame from RGB to HLS and apply thresholds to it"
   ]
  },
  {
   "cell_type": "code",
   "execution_count": 28,
   "metadata": {
    "collapsed": true,
    "deletable": true,
    "editable": true
   },
   "outputs": [],
   "source": [
    "def HLSconv(img , s_thr_max = 255 , s_thr_min = 100 ) :\n",
    "    hls = cv2.cvtColor(img,cv2.COLOR_RGB2HLS)\n",
    "    s_img = hls[:,:,2]\n",
    "    s_bin = np.zeros_like(s_img)\n",
    "    s_bin[(s_img>s_thr_min)&(s_img < s_thr_max)] = 1\n",
    "    return s_bin"
   ]
  },
  {
   "cell_type": "markdown",
   "metadata": {
    "deletable": true,
    "editable": true
   },
   "source": [
    "### sobel gradient function\n",
    "\n",
    "to convert the image frame from RGB to grayscape and apply sobel gradient along the x axis with threshold to find lines in the image"
   ]
  },
  {
   "cell_type": "code",
   "execution_count": 29,
   "metadata": {
    "collapsed": true,
    "deletable": true,
    "editable": true
   },
   "outputs": [],
   "source": [
    "def Gradconv(gray , thresh_max_grad = 255 , thresh_min_grad = 10):\n",
    "    \n",
    "    sobelx = cv2.Sobel(gray,cv2.CV_64F,1,0)# for x direction\n",
    "    sobelx = np.absolute(sobelx)\n",
    "    sobelx = np.uint8(255*sobelx/np.max(sobelx))\n",
    "    grad_bin = np.zeros_like(gray)\n",
    "    grad_bin[(sobelx>thresh_min_grad)&(sobelx <thresh_max_grad)] = 1\n",
    "    \n",
    "    return grad_bin"
   ]
  },
  {
   "cell_type": "markdown",
   "metadata": {
    "deletable": true,
    "editable": true
   },
   "source": [
    "### Region of interest function\n",
    "\n",
    "Define a Roi mask to remove the unwanted lines from our binary image . this will help in focusing more on lane lines"
   ]
  },
  {
   "cell_type": "code",
   "execution_count": 30,
   "metadata": {
    "collapsed": true,
    "deletable": true,
    "editable": true
   },
   "outputs": [],
   "source": [
    "def roiMask (grad_output):\n",
    "        roiValue = 1\n",
    "        roi = np.array([[\n",
    "            (100 , 720),\n",
    "            (560 , 486),\n",
    "            (779 , 486),\n",
    "            (1200 , 720)\n",
    "        ]], dtype=np.int32)\n",
    "\n",
    "        mask = np.zeros_like(grad_output)\n",
    "\n",
    "        cv2.fillPoly(mask, roi, roiValue)\n",
    "\n",
    "        grad_output_mask = cv2.bitwise_and(mask,grad_output)\n",
    "        \n",
    "        return grad_output_mask"
   ]
  },
  {
   "cell_type": "markdown",
   "metadata": {
    "deletable": true,
    "editable": true
   },
   "source": [
    "### find the center function\n",
    "\n",
    "find the offset in meters (center)\n",
    "\n",
    "offset = (centerX - (distence between two lane lines))/meters per pix in x direction"
   ]
  },
  {
   "cell_type": "code",
   "execution_count": 31,
   "metadata": {
    "collapsed": true,
    "deletable": true,
    "editable": true
   },
   "outputs": [],
   "source": [
    "def centerFind(img):\n",
    "    \n",
    "        rightX = np.mean(rightLine.allx[:100])\n",
    "        leftX = np.mean(leftLine.allx[:100])\n",
    "        centerX = (img.shape[1]/2)\n",
    "        \n",
    "        xm_per_pix = 3.7/700\n",
    "\n",
    "        ### adjustments sub by left value\n",
    "\n",
    "        leftX = leftX # ramains same\n",
    "        rightX = rightX-leftX\n",
    "\n",
    "        centerX = centerX - leftX\n",
    "\n",
    "        ### center is off by \n",
    "        off = (centerX - (rightX/2))* xm_per_pix\n",
    "        \n",
    "        return off"
   ]
  },
  {
   "cell_type": "markdown",
   "metadata": {
    "deletable": true,
    "editable": true
   },
   "source": [
    "### perspective transformation function\n",
    "\n",
    "to transform the binary thresholded image into birds eye view so that we can find the lane lines , curvatures and center \n",
    "\n",
    "* define a source and destination region\n",
    "* use getPerspectiveTransform to find the  3 X 3 matrix of a perspective transform\n",
    "* do the same from destination to src to get the inverse transformation "
   ]
  },
  {
   "cell_type": "code",
   "execution_count": 5,
   "metadata": {
    "collapsed": true,
    "deletable": true,
    "editable": true
   },
   "outputs": [],
   "source": [
    "def perspectiveTransform(gray):\n",
    "        img_size = (gray.shape[1],gray.shape[0])\n",
    "        adjx = 200\n",
    "        adjy = 0    \n",
    "        src = np.float32([[760 , 486],[1000 , 700],[220 , 700] , [560 , 486]])\n",
    "        \n",
    "        des = np.float32([[img_size[0]-adjx,adjy],[img_size[0]-adjx,img_size[1]-adjy],[adjx,img_size[1]-adjy] ,[adjx,adjy]])\n",
    "        \n",
    "        ### warp\n",
    "        M = cv2.getPerspectiveTransform(src,des)\n",
    "        Minv = cv2.getPerspectiveTransform(des,src)\n",
    "        return M , Minv"
   ]
  },
  {
   "cell_type": "markdown",
   "metadata": {
    "deletable": true,
    "editable": true
   },
   "source": [
    "### AdvLaneFinder function\n",
    "\n",
    "this function takes in the image frame from a video source and returns a image with lane lines marked \n",
    "\n",
    "pipeline of this funcion\n",
    "\n",
    "* take an image frame\n",
    "* convert to HLS , seperate saturation channel and apply threshold\n",
    "* convert img to gray , apply sobel gradient along x axis , apply threshold\n",
    "* combine both these thresholded output into one\n",
    "* apply smoothening techniques like erode and dilate to remove noices\n",
    "* apply perspective transformation to the binary image\n",
    "* use window search method to find the lane lines (first iteration , use histogram , if we already have a valid lane line , use its points as the starting point for searching)\n",
    "* mark the lane lines and the area within it\n",
    "* find the alignment difference between the center of car and the lane center\n",
    "* return an image with lane markings , thresholded image and center alignment marked\n"
   ]
  },
  {
   "cell_type": "code",
   "execution_count": 33,
   "metadata": {
    "collapsed": true,
    "deletable": true,
    "editable": true
   },
   "outputs": [],
   "source": [
    "def AdvLaneFinder(img) :\n",
    "    \n",
    "    img = cv2.undistort(img, mat, dis, None, mat)               # apply distortion correction to the image \n",
    "    try :\n",
    "        gray = cv2.cvtColor(img,cv2.COLOR_RGB2GRAY)             # conv to grayacape image\n",
    "        \n",
    "        s_bin = HLSconv(img)                                    # apply HLS conv and threshold \n",
    "        \n",
    "        grad_bin =  Gradconv(gray)                              # apply sobelx gradient  and threshold \n",
    "        \n",
    "\n",
    "        grad_output = np.zeros_like(gray)\n",
    "        grad_output[(grad_bin == 1)|(s_bin == 1)] = 1           # use OR operator to add both sobelx and\n",
    "                                                                #saturation threshold into a single image\n",
    "        \n",
    "        grad_output_mask = roiMask (grad_output)                # apply ROI \n",
    "        \n",
    "        \n",
    "        M , Minv = perspectiveTransform(gray)                   # get the perspective transform matrix for both srd - des and des - src\n",
    "        \n",
    "        img_size = (gray.shape[1],gray.shape[0])\n",
    "        \n",
    "        warped = cv2.warpPerspective(grad_output_mask , M , img_size ) # wasp the binary image to birds eye view\n",
    "        \n",
    "        \n",
    "        ### apply cleaning to remove noices in the binary image\n",
    "        kernel = np.ones((8,8),np.uint8)\n",
    "        dilate = cv2.dilate(warped,kernel,iterations = 1)\n",
    "        erosion = cv2.erode(dilate,kernel,iterations = 1)\n",
    "        opening = cv2.morphologyEx(erosion, cv2.MORPH_OPEN, kernel)\n",
    "\n",
    "        \n",
    "\n",
    "        binary_warped = np.copy(opening)\n",
    "        \n",
    "        histogram = np.sum(binary_warped[int(binary_warped.shape[0]/2):,:], axis=0) # histogram along x axis\n",
    "        \n",
    "        out_img = np.dstack((binary_warped, binary_warped, binary_warped))*255      # create imag with 3 layer depth\n",
    "        \n",
    "        midpoint = np.int(histogram.shape[0]/2)                                     # divide histogram into two half\n",
    "        \n",
    "        ### if we have a valid fit on lane lines , we can use the x values to fit the windows\n",
    "        \n",
    "        \n",
    "        if(leftLine.allx != None):                                                  # if we have a valid fit\n",
    "            leftx_base = int(np.mean(leftLine.allx[:100]))\n",
    "            rightx_base = int(np.mean(rightLine.allx[:100]))\n",
    "        else:\n",
    "            \n",
    "            leftx_base = np.argmax(histogram[:midpoint])\n",
    "            rightx_base = np.argmax(histogram[midpoint:]) + midpoint\n",
    "\n",
    "        ### simple window search \n",
    "        nwindows = 20\n",
    "        window_height = np.int(binary_warped.shape[0]/nwindows)       \n",
    "        nonzero = binary_warped.nonzero()\n",
    "        nonzeroy = np.array(nonzero[0])\n",
    "        nonzerox = np.array(nonzero[1])\n",
    "        leftx_current = leftx_base\n",
    "        rightx_current = rightx_base\n",
    "        margin = 100\n",
    "        minpix = 50\n",
    "        left_lane_inds = []\n",
    "        right_lane_inds = []\n",
    "        for window in range(nwindows):\n",
    "            win_y_low = binary_warped.shape[0] - (window+1)*window_height\n",
    "            win_y_high = binary_warped.shape[0] - window*window_height\n",
    "            win_xleft_low = leftx_current - margin\n",
    "            win_xleft_high = leftx_current + margin\n",
    "            win_xright_low = rightx_current - margin\n",
    "            win_xright_high = rightx_current + margin\n",
    "            cv2.rectangle(out_img,(win_xleft_low,win_y_low),(win_xleft_high,win_y_high),(0,255,0), 2) \n",
    "            cv2.rectangle(out_img,(win_xright_low,win_y_low),(win_xright_high,win_y_high),(0,255,0), 2) \n",
    "            good_left_inds = ((nonzeroy >= win_y_low) & (nonzeroy < win_y_high) & (nonzerox >= win_xleft_low) & (nonzerox < win_xleft_high)).nonzero()[0]\n",
    "            good_right_inds = ((nonzeroy >= win_y_low) & (nonzeroy < win_y_high) & (nonzerox >= win_xright_low) & (nonzerox < win_xright_high)).nonzero()[0]\n",
    "            left_lane_inds.append(good_left_inds)\n",
    "            right_lane_inds.append(good_right_inds)\n",
    "            \n",
    "            if len(good_left_inds) > minpix:\n",
    "                leftx_current = np.int(np.mean(nonzerox[good_left_inds]))\n",
    "            if len(good_right_inds) > minpix:        \n",
    "                rightx_current = np.int(np.mean(nonzerox[good_right_inds]))\n",
    "\n",
    "        \n",
    "        left_lane_inds = np.concatenate(left_lane_inds)\n",
    "        right_lane_inds = np.concatenate(right_lane_inds)\n",
    "\n",
    "        \n",
    "        leftx = nonzerox[left_lane_inds]\n",
    "        lefty = nonzeroy[left_lane_inds] \n",
    "        rightx = nonzerox[right_lane_inds]\n",
    "        righty = nonzeroy[right_lane_inds] \n",
    "\n",
    "        # fit a second order polynomial\n",
    "        left_fit = np.polyfit(lefty, leftx, 2)\n",
    "        right_fit = np.polyfit(righty, rightx, 2)\n",
    "\n",
    "        ploty = np.linspace(0, binary_warped.shape[0]-1, binary_warped.shape[0] )\n",
    "        left_fitx = left_fit[0]*ploty**2 + left_fit[1]*ploty + left_fit[2]\n",
    "        right_fitx = right_fit[0]*ploty**2 + right_fit[1]*ploty + right_fit[2]\n",
    "                \n",
    "        avgLX=np.mean(left_fitx)\n",
    "        avgRX=np.mean(right_fitx)\n",
    "        \n",
    "        if (leftLine.besx != None):                                             # save lane fit for future usage in the class\n",
    "            \n",
    "            leftLine.besx =(avgLX +leftLine.besx)/leftLine.iter                 # avarage \n",
    "            rightLine.besx =(avgRX +rightLine.besx)/rightLine.iter              # avarage\n",
    "            #polynomial coefficients averaged over the last n iterations\n",
    "            leftLine.best_fit =(left_fit + leftLine.best_fit)/leftLine.iter\n",
    "            rightLine.best_fit =(right_fit + rightLine.best_fit)/rightLine.iter\n",
    "\n",
    "             \n",
    "        else:\n",
    "            leftLine.besx = avgLX \n",
    "            rightLine.besx = avgRX\n",
    "            \n",
    "            leftLine.best_fit = left_fit \n",
    "            rightLine.best_fit = right_fit\n",
    "        \n",
    "\n",
    "        leftLine.recent_xfitted.append(left_fitx)\n",
    "        rightLine.recent_xfitted.append(right_fitx)\n",
    "        \n",
    "        leftLine.current_fit.append(left_fit)\n",
    "        rightLine.current_fit.append(right_fit)\n",
    "        \n",
    "        ### save the lane pixels into class \n",
    "        leftLine.allx = leftx\n",
    "        leftLine.ally = lefty\n",
    "        rightLine.allx = rightx\n",
    "        rightLine.ally = righty\n",
    "        \n",
    "        \n",
    "        out_img[nonzeroy[left_lane_inds], nonzerox[left_lane_inds]] = [255, 0, 0]\n",
    "        out_img[nonzeroy[right_lane_inds], nonzerox[right_lane_inds]] = [0, 0, 255]\n",
    "\n",
    "        ### find the curvature of the lane lines \n",
    "        y_eval = np.max(ploty)\n",
    "        left_curverad = ((1 + (2*left_fit[0]*y_eval + left_fit[1])**2)**1.5) / np.absolute(2*left_fit[0])\n",
    "        right_curverad = ((1 + (2*right_fit[0]*y_eval + right_fit[1])**2)**1.5) / np.absolute(2*right_fit[0])\n",
    "\n",
    "        ym_per_pix = 30/720                                                       # meters per pixel in y dimension\n",
    "        xm_per_pix = 3.7/700                                                      # meters per pixel in x dimension\n",
    "\n",
    "        # Fit new polynomials to x,y in world space\n",
    "        left_fit_cr = np.polyfit(lefty*ym_per_pix, leftx*xm_per_pix, 2)\n",
    "        right_fit_cr = np.polyfit(righty*ym_per_pix, rightx*xm_per_pix, 2)\n",
    "        # Calculate the new radii of curvature\n",
    "        left_curverad = ((1 + (2*left_fit_cr[0]*y_eval*ym_per_pix + left_fit_cr[1])**2)**1.5) / np.absolute(2*left_fit_cr[0])\n",
    "        right_curverad = ((1 + (2*right_fit_cr[0]*y_eval*ym_per_pix + right_fit_cr[1])**2)**1.5) / np.absolute(2*right_fit_cr[0])\n",
    "        \n",
    "        ### note the lane curvature onto the class\n",
    "        leftLine.radius_of_curvature = left_curverad\n",
    "        rightLine.radius_of_curvature = right_curverad\n",
    "        ###\n",
    "        \n",
    "        warp_zero = np.zeros_like(warped).astype(np.uint8)\n",
    "        color_warp = np.dstack((warp_zero, warp_zero, warp_zero))\n",
    "\n",
    "        # Recast the x and y points into usable format for cv2.fillPoly()\n",
    "        pts_left = np.array([np.transpose(np.vstack([left_fitx, ploty]))])\n",
    "        pts_right = np.array([np.flipud(np.transpose(np.vstack([right_fitx, ploty])))])\n",
    "        pts = np.hstack((pts_left, pts_right))\n",
    "    \n",
    "        ###!!! points for using in fill polly\n",
    "        leftLine.pts = pts_left\n",
    "        rightLine.pts = pts_right\n",
    "        \n",
    "        leftLine.Minv = Minv\n",
    "        rightLine.Minv = Minv\n",
    "        \n",
    "        # Draw the lane onto the warped blank image\n",
    "        cv2.fillPoly(color_warp, np.int_([pts]), (0,255, 0))\n",
    "\n",
    "        # Warp the blank back to original image space using inverse perspective matrix (Minv)\n",
    "        newwarp = cv2.warpPerspective(color_warp, Minv, (img.shape[1], img.shape[0])) \n",
    "        # Combine the result with the original image\n",
    "        result = cv2.addWeighted(img, 1, newwarp, 0.3, 0)#img\n",
    "        \n",
    "        \n",
    "        off = centerFind(img)                                                                # find the center misalignment\n",
    "        ###!!!\n",
    "        leftLine.off = off\n",
    "        rightLine.off = off\n",
    "        ###!!!\n",
    "        font = cv2.FONT_HERSHEY_SIMPLEX\n",
    "        q = cv2.putText(result,str(off)+' M',(900,300), font, 1,(255,255,255),2,cv2.LINE_AA) # add the center to the image\n",
    "        \n",
    "        leftLine.detected = True\n",
    "        rightLine.detected = True\n",
    "        \n",
    "        \n",
    "        \n",
    "        lane =cv2.resize(binary_warped,(300,200),interpolation = cv2.INTER_AREA)\n",
    "        lane = lane*255\n",
    "        \n",
    "        lane_c = np.dstack((lane, lane, lane))\n",
    "        \n",
    "        \n",
    "        \n",
    "        result[0:200 , 980:1280] = lane_c                                                     # add the birds eye view to the image\n",
    "            \n",
    "        \n",
    "             \n",
    "    except  :\n",
    "            \n",
    "            \n",
    "            \n",
    "            leftLine.detected = False\n",
    "            rightLine.detected = False\n",
    "            \n",
    "            warp_zero = np.zeros_like(img[:,:,1]).astype(np.uint8)\n",
    "            \n",
    "            color_warp = np.dstack((warp_zero, warp_zero, warp_zero))\n",
    "            \n",
    "            pts = np.hstack((leftLine.pts, rightLine.pts))\n",
    "            \n",
    "            cv2.fillPoly(color_warp, np.int_([pts]), (0,255, 0))\n",
    "            \n",
    "            newwarp = cv2.warpPerspective(color_warp, leftLine.Minv, (img.shape[1], img.shape[0])) \n",
    "        \n",
    "            result = cv2.addWeighted(img, 1, newwarp, 0.3, 0)#img\n",
    "            \n",
    "            font = cv2.FONT_HERSHEY_SIMPLEX\n",
    "            q = cv2.putText(result,str(leftLine.off)+' M',(900,300), font, 1,(255,255,255),2,cv2.LINE_AA)\n",
    "        \n",
    "            \n",
    "            return result\n",
    "        \n",
    "        \n",
    "    return result\n",
    "\n",
    "    "
   ]
  },
  {
   "cell_type": "code",
   "execution_count": 34,
   "metadata": {
    "collapsed": false,
    "deletable": true,
    "editable": true
   },
   "outputs": [
    {
     "name": "stdout",
     "output_type": "stream",
     "text": [
      "[MoviePy] >>>> Building video D:\\tutorials\\nanodegree\\SDC\\unit_10_Advanced_lane_finding\\CarND-Advanced-Lane-Lines-master\\FinalOutput10.mp4\n",
      "[MoviePy] Writing video D:\\tutorials\\nanodegree\\SDC\\unit_10_Advanced_lane_finding\\CarND-Advanced-Lane-Lines-master\\FinalOutput10.mp4\n"
     ]
    },
    {
     "name": "stderr",
     "output_type": "stream",
     "text": [
      "100%|█████████████████████████████████████████████████████████████████████████████▉| 1260/1261 [09:16<00:00,  2.47it/s]\n"
     ]
    },
    {
     "name": "stdout",
     "output_type": "stream",
     "text": [
      "[MoviePy] Done.\n",
      "[MoviePy] >>>> Video ready: D:\\tutorials\\nanodegree\\SDC\\unit_10_Advanced_lane_finding\\CarND-Advanced-Lane-Lines-master\\FinalOutput10.mp4 \n",
      "\n",
      "Wall time: 9min 20s\n"
     ]
    }
   ],
   "source": [
    "\n",
    "leftLine = Line()\n",
    "rightLine = Line()\n",
    "\n",
    "clip1 = VideoFileClip(nameOfTheFile)\n",
    "white_clip = clip1.fl_image(AdvLaneFinder) #NOTE: this function expects color images!!\n",
    "%time white_clip.write_videofile(white_output, audio=False)"
   ]
  }
 ],
 "metadata": {
  "kernelspec": {
   "display_name": "Python 3",
   "language": "python",
   "name": "python3"
  },
  "language_info": {
   "codemirror_mode": {
    "name": "ipython",
    "version": 3
   },
   "file_extension": ".py",
   "mimetype": "text/x-python",
   "name": "python",
   "nbconvert_exporter": "python",
   "pygments_lexer": "ipython3",
   "version": "3.5.2"
  },
  "widgets": {
   "state": {},
   "version": "1.1.2"
  }
 },
 "nbformat": 4,
 "nbformat_minor": 2
}
